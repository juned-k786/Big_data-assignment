{
  "nbformat": 4,
  "nbformat_minor": 0,
  "metadata": {
    "colab": {
      "provenance": []
    },
    "kernelspec": {
      "name": "python3",
      "display_name": "Python 3"
    },
    "language_info": {
      "name": "python"
    }
  },
  "cells": [
    {
      "cell_type": "code",
      "execution_count": 1,
      "metadata": {
        "colab": {
          "base_uri": "https://localhost:8080/"
        },
        "id": "ExsjHuYBMZjU",
        "outputId": "c48c413a-ac35-41d8-f890-d6be0937236e"
      },
      "outputs": [
        {
          "output_type": "stream",
          "name": "stdout",
          "text": [
            "Failed to fetch data.\n"
          ]
        }
      ],
      "source": [
        "import requests\n",
        "import pandas as pd\n",
        "import datetime\n",
        "\n",
        "# API Endpoint\n",
        "API_URL = \"https://api.exchangerate.host/timeseries\"\n",
        "START_DATE = \"2015-01-01\"\n",
        "END_DATE = datetime.date.today().strftime(\"%Y-%m-%d\")\n",
        "\n",
        "# Fetch INR to USD exchange rates\n",
        "params = {\n",
        "    \"start_date\": START_DATE,\n",
        "    \"end_date\": END_DATE,\n",
        "    \"base\": \"INR\",\n",
        "    \"symbols\": \"USD\"\n",
        "}\n",
        "\n",
        "response = requests.get(API_URL, params=params)\n",
        "data = response.json()\n",
        "\n",
        "# Convert to DataFrame\n",
        "if \"rates\" in data:\n",
        "    df = pd.DataFrame.from_dict(data[\"rates\"], orient=\"index\")\n",
        "    df.index = pd.to_datetime(df.index)\n",
        "    df.to_csv(\"inr_usd_exchange.csv\")\n",
        "    print(\"Data saved successfully!\")\n",
        "else:\n",
        "    print(\"Failed to fetch data.\")\n"
      ]
    },
    {
      "cell_type": "code",
      "source": [
        "import requests\n",
        "import pandas as pd\n",
        "import datetime\n",
        "\n",
        "# API Endpoint\n",
        "API_URL = \"https://api.exchangerate.host/timeseries\"\n",
        "START_DATE = \"2015-01-01\"\n",
        "END_DATE = datetime.date.today().strftime(\"%Y-%m-%d\")\n",
        "\n",
        "# Fetch INR to USD exchange rates\n",
        "params = {\n",
        "    \"start_date\": START_DATE,\n",
        "    \"end_date\": END_DATE,\n",
        "    \"base\": \"INR\",\n",
        "    \"symbols\": \"USD\"\n",
        "}\n",
        "\n",
        "response = requests.get(API_URL, params=params)\n",
        "data = response.json()\n",
        "\n",
        "# Convert to DataFrame\n",
        "# Check if the API call was successful before proceeding\n",
        "if data.get(\"success\"):  # Use get() to avoid potential KeyError if \"success\" is missing\n",
        "    df = pd.DataFrame.from_dict(data[\"rates\"], orient=\"index\")\n",
        "    df.index = pd.to_datetime(df.index)\n",
        "    # Rename the column to 'USD'\n",
        "    df = df.rename(columns={df.columns[0]: 'USD'}) # Assuming 'INR_to_USD' or similar is the first column\n",
        "    df.to_csv(\"inr_usd_exchange.csv\")\n",
        "    print(\"Data saved successfully!\")\n",
        "else:\n",
        "    print(f\"Failed to fetch data: {data.get('error')}\") # Print the error message for debugging"
      ],
      "metadata": {
        "colab": {
          "base_uri": "https://localhost:8080/"
        },
        "id": "akG6M-VGMq0-",
        "outputId": "87d882db-bdb9-4773-9613-f56d21a070ab"
      },
      "execution_count": 4,
      "outputs": [
        {
          "output_type": "stream",
          "name": "stdout",
          "text": [
            "Failed to fetch data: {'code': 101, 'type': 'missing_access_key', 'info': 'You have not supplied an API Access Key. [Required format: access_key=YOUR_ACCESS_KEY]'}\n"
          ]
        }
      ]
    },
    {
      "cell_type": "code",
      "source": [
        "# Fetch EUR to USD exchange rate\n",
        "params[\"base\"] = \"EUR\"\n",
        "response = requests.get(API_URL, params=params)\n",
        "data_eur = response.json()\n",
        "\n",
        "# Check if the API call was successful before proceeding\n",
        "if data_eur.get(\"success\"):\n",
        "    df_eur = pd.DataFrame.from_dict(data_eur[\"rates\"], orient=\"index\")\n",
        "    df_eur.index = pd.to_datetime(df_eur.index)\n",
        "else:\n",
        "    print(f\"Failed to fetch EUR to USD data: {data_eur.get('error')}\")\n",
        "    # Handle the error, e.g., exit or use default values\n",
        "\n",
        "# ... (rest of the code)"
      ],
      "metadata": {
        "colab": {
          "base_uri": "https://localhost:8080/"
        },
        "id": "LQrVmm9pMtRi",
        "outputId": "a56478b3-ffd1-4a9d-d5a1-4b799b117039"
      },
      "execution_count": 6,
      "outputs": [
        {
          "output_type": "stream",
          "name": "stdout",
          "text": [
            "Failed to fetch EUR to USD data: {'code': 101, 'type': 'missing_access_key', 'info': 'You have not supplied an API Access Key. [Required format: access_key=YOUR_ACCESS_KEY]'}\n"
          ]
        }
      ]
    },
    {
      "cell_type": "code",
      "source": [
        "def batch_analysis(df, batch_size):\n",
        "    years = sorted(df.index.year.unique())\n",
        "    for i in range(0, len(years), batch_size):\n",
        "        batch_years = years[i:i+batch_size]\n",
        "        batch_data = df[df.index.year.isin(batch_years)]\n",
        "\n",
        "        print(f\"Analyzing Batch: {batch_years}\")\n",
        "        print(batch_data.describe())  # Summary statistics\n",
        "\n",
        "        # Plot batch trend\n",
        "        plt.figure(figsize=(8, 4))\n",
        "        plt.plot(batch_data.index, batch_data[\"USD\"], label=f\"INR to USD {batch_years}\", alpha=0.6)\n",
        "        plt.xlabel(\"Year\")\n",
        "        plt.ylabel(\"Exchange Rate\")\n",
        "        plt.title(f\"INR to USD Trend ({batch_years})\")\n",
        "        plt.legend()\n",
        "        plt.show()\n",
        "\n",
        "# Analyze in batches of 2 years\n",
        "batch_analysis(df, batch_size=2)\n"
      ],
      "metadata": {
        "id": "P1iPLF2cM0Nt"
      },
      "execution_count": null,
      "outputs": []
    },
    {
      "cell_type": "code",
      "source": [
        "from multiprocessing import Pool\n",
        "\n",
        "# Define a function to process each year's data\n",
        "def analyze_year(year):\n",
        "    subset = df[df.index.year == year]\n",
        "    trend = subset[\"USD\"].mean()\n",
        "    return (year, trend)\n",
        "\n",
        "years = sorted(df.index.year.unique())\n",
        "\n",
        "# Use multiprocessing to process data in parallel\n",
        "with Pool() as pool:\n",
        "    results = pool.map(analyze_year, years)\n",
        "\n",
        "# Convert results to a DataFrame\n",
        "df_trends = pd.DataFrame(results, columns=[\"Year\", \"Average Exchange Rate\"])\n"
      ],
      "metadata": {
        "id": "WIh2KpENM2rn"
      },
      "execution_count": null,
      "outputs": []
    },
    {
      "cell_type": "code",
      "source": [
        "plt.figure(figsize=(12, 6))\n",
        "plt.plot(df_trends[\"Year\"], df_trends[\"Average Exchange Rate\"], marker=\"o\", linestyle=\"-\", color=\"blue\")\n",
        "plt.xlabel(\"Year\")\n",
        "plt.ylabel(\"Average INR to USD Exchange Rate\")\n",
        "plt.title(\"INR Weakening Trend Over Years (MapReduce Analysis)\")\n",
        "plt.grid()\n",
        "plt.show()\n"
      ],
      "metadata": {
        "id": "W1IWOToMM5b7"
      },
      "execution_count": null,
      "outputs": []
    }
  ]
}