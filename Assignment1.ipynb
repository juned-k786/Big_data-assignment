{
  "nbformat": 4,
  "nbformat_minor": 0,
  "metadata": {
    "colab": {
      "provenance": []
    },
    "kernelspec": {
      "name": "python3",
      "display_name": "Python 3"
    },
    "language_info": {
      "name": "python"
    }
  },
  "cells": [
    {
      "cell_type": "markdown",
      "source": [
        "Generate 100 Random Numbers and Store in a List"
      ],
      "metadata": {
        "id": "9ATT-98CKZvF"
      }
    },
    {
      "cell_type": "code",
      "execution_count": 1,
      "metadata": {
        "colab": {
          "base_uri": "https://localhost:8080/"
        },
        "id": "Pk0-WwA-J8l5",
        "outputId": "d4287aa5-f760-4985-d52a-a14eb7a5a6d1"
      },
      "outputs": [
        {
          "output_type": "stream",
          "name": "stdout",
          "text": [
            "Unsorted Numbers: [367, 971, 610, 499, 409, 128, 533, 104, 697, 328] ...\n"
          ]
        }
      ],
      "source": [
        "import random\n",
        "\n",
        "# Function using return to store numbers in a list\n",
        "def generate_numbers_return():\n",
        "    return [random.randint(1, 1000) for _ in range(100)]\n",
        "\n",
        "# Generate the list of random numbers\n",
        "numbers_list = generate_numbers_return()\n",
        "print(\"Unsorted Numbers:\", numbers_list[:10], \"...\")  # Display first 10 numbers\n"
      ]
    },
    {
      "cell_type": "markdown",
      "source": [
        "Implement Merge Sort"
      ],
      "metadata": {
        "id": "7FIqC3H9KfDq"
      }
    },
    {
      "cell_type": "code",
      "source": [
        "def merge_sort(arr):\n",
        "    if len(arr) <= 1:\n",
        "        return arr\n",
        "\n",
        "    mid = len(arr) // 2\n",
        "    left_half = merge_sort(arr[:mid])\n",
        "    right_half = merge_sort(arr[mid:])\n",
        "\n",
        "    return merge(left_half, right_half)\n",
        "\n",
        "def merge(left, right):\n",
        "    sorted_list = []\n",
        "    i = j = 0\n",
        "\n",
        "    while i < len(left) and j < len(right):\n",
        "        if left[i] < right[j]:\n",
        "            sorted_list.append(left[i])\n",
        "            i += 1\n",
        "        else:\n",
        "            sorted_list.append(right[j])\n",
        "            j += 1\n",
        "\n",
        "    sorted_list.extend(left[i:])\n",
        "    sorted_list.extend(right[j:])\n",
        "\n",
        "    return sorted_list\n",
        "\n",
        "# Sorting the list using Merge Sort\n",
        "sorted_numbers = merge_sort(numbers_list)\n",
        "print(\"Sorted Numbers:\", sorted_numbers[:10], \"...\")  # Display first 10 sorted numbers\n"
      ],
      "metadata": {
        "colab": {
          "base_uri": "https://localhost:8080/"
        },
        "id": "Ld7WKMxcKPkt",
        "outputId": "a7cdb8b9-a480-4cfd-d28e-741b02f9cc4d"
      },
      "execution_count": 2,
      "outputs": [
        {
          "output_type": "stream",
          "name": "stdout",
          "text": [
            "Sorted Numbers: [11, 17, 48, 81, 93, 95, 104, 110, 112, 115] ...\n"
          ]
        }
      ]
    },
    {
      "cell_type": "markdown",
      "source": [
        "Batch Processing"
      ],
      "metadata": {
        "id": "xjFiAxs0Ki1M"
      }
    },
    {
      "cell_type": "code",
      "source": [
        "def batch_merge_sort(arr, batch_size):\n",
        "    # Divide the array into smaller batches\n",
        "    batches = [arr[i:i + batch_size] for i in range(0, len(arr), batch_size)]\n",
        "\n",
        "    # Sort each batch independently\n",
        "    sorted_batches = [merge_sort(batch) for batch in batches]\n",
        "\n",
        "    # Merge all sorted batches\n",
        "    while len(sorted_batches) > 1:\n",
        "        merged_batches = []\n",
        "        for i in range(0, len(sorted_batches), 2):\n",
        "            if i + 1 < len(sorted_batches):\n",
        "                merged_batches.append(merge(sorted_batches[i], sorted_batches[i + 1]))\n",
        "            else:\n",
        "                merged_batches.append(sorted_batches[i])\n",
        "        sorted_batches = merged_batches\n",
        "\n",
        "    return sorted_batches[0] if sorted_batches else []\n",
        "\n",
        "# Perform batch merge sort with batch size of 20\n",
        "sorted_numbers_batch = batch_merge_sort(numbers_list, 20)\n",
        "print(\"Sorted Numbers (Batch Processing):\", sorted_numbers_batch[:10], \"...\")\n"
      ],
      "metadata": {
        "colab": {
          "base_uri": "https://localhost:8080/"
        },
        "id": "gjy6d-_HKT3B",
        "outputId": "70d49128-d2a8-4917-dc71-f02ee659f863"
      },
      "execution_count": 3,
      "outputs": [
        {
          "output_type": "stream",
          "name": "stdout",
          "text": [
            "Sorted Numbers (Batch Processing): [11, 17, 48, 81, 93, 95, 104, 110, 112, 115] ...\n"
          ]
        }
      ]
    },
    {
      "cell_type": "markdown",
      "source": [
        "MapReduce Paradigm"
      ],
      "metadata": {
        "id": "2ElRSiu_Kmno"
      }
    },
    {
      "cell_type": "code",
      "source": [
        "from multiprocessing import Pool\n",
        "\n",
        "# Map function: Sorts a chunk of data\n",
        "def map_sort(chunk):\n",
        "    return merge_sort(chunk)\n",
        "\n",
        "# Reduce function: Merges sorted chunks\n",
        "def reduce_merge(sorted_chunks):\n",
        "    while len(sorted_chunks) > 1:\n",
        "        merged_chunks = []\n",
        "        for i in range(0, len(sorted_chunks), 2):\n",
        "            if i + 1 < len(sorted_chunks):\n",
        "                merged_chunks.append(merge(sorted_chunks[i], sorted_chunks[i + 1]))\n",
        "            else:\n",
        "                merged_chunks.append(sorted_chunks[i])\n",
        "        sorted_chunks = merged_chunks\n",
        "    return sorted_chunks[0] if sorted_chunks else []\n",
        "\n",
        "# Splitting data into chunks for Map phase\n",
        "chunk_size = 20\n",
        "chunks = [numbers_list[i:i + chunk_size] for i in range(0, len(numbers_list), chunk_size)]\n",
        "\n",
        "# Parallel Sorting (Map phase)\n",
        "with Pool() as pool:\n",
        "    sorted_chunks = pool.map(map_sort, chunks)\n",
        "\n",
        "# Reduce phase: Merge sorted chunks\n",
        "sorted_numbers_mapreduce = reduce_merge(sorted_chunks)\n",
        "\n",
        "print(\"Sorted Numbers (MapReduce):\", sorted_numbers_mapreduce[:10], \"...\")\n"
      ],
      "metadata": {
        "colab": {
          "base_uri": "https://localhost:8080/"
        },
        "id": "MOlQqPVIKWMj",
        "outputId": "1c6ebce4-633a-49aa-8ddb-e6b45e8dc95d"
      },
      "execution_count": 4,
      "outputs": [
        {
          "output_type": "stream",
          "name": "stdout",
          "text": [
            "Sorted Numbers (MapReduce): [11, 17, 48, 81, 93, 95, 104, 110, 112, 115] ...\n"
          ]
        }
      ]
    }
  ]
}